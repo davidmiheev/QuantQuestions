{
  "nbformat": 4,
  "nbformat_minor": 0,
  "metadata": {
    "colab": {
      "provenance": [],
      "authorship_tag": "ABX9TyMN6d2d42ESFZWVF42BV6YX",
      "include_colab_link": true
    },
    "kernelspec": {
      "name": "python3",
      "display_name": "Python 3"
    },
    "language_info": {
      "name": "python"
    }
  },
  "cells": [
    {
      "cell_type": "markdown",
      "metadata": {
        "id": "view-in-github",
        "colab_type": "text"
      },
      "source": [
        "<a href=\"https://colab.research.google.com/github/davidmiheev/QuantQuestions/blob/main/ProbQuestions.ipynb\" target=\"_parent\"><img src=\"https://colab.research.google.com/assets/colab-badge.svg\" alt=\"Open In Colab\"/></a>"
      ]
    },
    {
      "cell_type": "markdown",
      "source": [
        "# Probability questions from Quant Questions\n",
        "Here are collected problems where you are asked to find some probability and my solutions for these problems"
      ],
      "metadata": {
        "id": "t_vf6eZrT9GZ"
      }
    },
    {
      "cell_type": "markdown",
      "source": [
        "## Increasing Dice Order I\n",
        "\n",
        "> You roll a fair 6-sided die twice.\n",
        "Calculate the probability that the value of the first roll is strictly less than the value of the second roll.\n",
        "\n",
        "### Solution\n",
        "\n",
        "Use Full Probabily Formula:\n",
        "\n",
        "Let $X_1$ - value of the first roll and $X_2$ - value of the second roll\n",
        "Then we need to find probability that $X_2 > X_1$:\n",
        "$$P(X_2>X_1) = \\sum_{k=1}^6 P(X_2>X_1|X_1=k)P(X_1=k)$$\n",
        "We know that $P(X_1=k)=1/6$ for any $k$\n",
        "\n",
        "And $P(X_2>X_1|X_1=k)=(6-k)/6$\n",
        "Now we can substitute all values to the formula and get:\n",
        "$$P(X_2>X_1) = 1/6\\sum_{k=1}^6 (6-k)/6=5/12$$\n",
        "\n",
        "So, the answer is $5/12$\n",
        "\n"
      ],
      "metadata": {
        "id": "mB6wPzUKO306"
      }
    },
    {
      "cell_type": "code",
      "execution_count": 3,
      "metadata": {
        "colab": {
          "base_uri": "https://localhost:8080/"
        },
        "id": "ncbXICPXOCYb",
        "outputId": "ebf24911-bf16-43a5-cbd7-a3450110442a"
      },
      "outputs": [
        {
          "output_type": "stream",
          "name": "stdout",
          "text": [
            "5/12\n"
          ]
        }
      ],
      "source": [
        "from fractions import Fraction\n",
        "\n",
        "print(Fraction('1/6')*sum(Fraction(f'{6-k}/6') for k in range(1, 7)))"
      ]
    },
    {
      "cell_type": "markdown",
      "source": [
        "## Probability of Unfair Coin I\n",
        "\n",
        "> You have a pile of 100 coins.\n",
        "1 of the coins is an unfair coin and has heads on both sides. The remaining\n",
        "99 coins are fair coins. You randomly select a coin from the pile and flip it\n",
        "10 times. The coin lands heads all\n",
        "10 times. Calculate the probability that the coin you selected is the unfair coin.\n",
        "\n",
        "### Solution\n",
        "\n",
        "Use Bayes Formula\n",
        "$$P(A|B)=\\frac{P(B|A)\\cdot P(A)}{P(B)},$$\n",
        "\n",
        "where A is the event \"selected unfair coin\", B is the event \"The coin lands heads all 10 times\"\n",
        "Then $P(B|A) = 1, P(A)=1/100, P(B)=1/2^{10}\\cdot 99/100+1/100$\n",
        "So,\n",
        "$$P(A|B)=1\\cdot 1/100 \\cdot \\frac{1024\\cdot 100}{1123}= \\frac{1024}{1123}$$\n",
        "\n",
        "the answer is 1024/1123"
      ],
      "metadata": {
        "id": "WE5B8n3fUIo6"
      }
    },
    {
      "cell_type": "code",
      "source": [
        "print(Fraction('1024/1123'))"
      ],
      "metadata": {
        "colab": {
          "base_uri": "https://localhost:8080/"
        },
        "id": "7vnSxfbEWKVR",
        "outputId": "fc619296-2c35-47e0-8045-73e1aa56c73f"
      },
      "execution_count": 5,
      "outputs": [
        {
          "output_type": "stream",
          "name": "stdout",
          "text": [
            "1024/1123\n"
          ]
        }
      ]
    }
  ]
}