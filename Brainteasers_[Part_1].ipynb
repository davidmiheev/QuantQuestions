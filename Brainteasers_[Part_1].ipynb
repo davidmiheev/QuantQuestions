{
  "nbformat": 4,
  "nbformat_minor": 0,
  "metadata": {
    "colab": {
      "provenance": [],
      "authorship_tag": "ABX9TyMcSCOtGnP9lDzc+1nHjvCR",
      "include_colab_link": true
    },
    "kernelspec": {
      "name": "python3",
      "display_name": "Python 3"
    },
    "language_info": {
      "name": "python"
    }
  },
  "cells": [
    {
      "cell_type": "markdown",
      "metadata": {
        "id": "view-in-github",
        "colab_type": "text"
      },
      "source": [
        "<a href=\"https://colab.research.google.com/github/davidmiheev/QuantQuestions/blob/main/Brainteasers_%5BPart_1%5D.ipynb\" target=\"_parent\"><img src=\"https://colab.research.google.com/assets/colab-badge.svg\" alt=\"Open In Colab\"/></a>"
      ]
    },
    {
      "cell_type": "markdown",
      "source": [
        "# Braintesers from Quant Questions: Part 1\n",
        "Here are collected problems which labelled as brainteasers on Quant Questions and solutions for these problems"
      ],
      "metadata": {
        "id": "fz5cfuR5XNXg"
      }
    },
    {
      "cell_type": "markdown",
      "source": [
        "## 2D Paths I\n",
        "\n",
        "> You are playing a 2D game where your character is trapped within a 6×6 grid. Your character starts at (0,0) and can only move up and right. How many possible paths can your character take to get to (6,6)?\n",
        "\n",
        "### Solution\n",
        "\n",
        "Any path from (0,0) to (6,6) has length 6+6=12 intervals where we go either right or down. To count all possible path we need to choose 6 out of 12 intervals where we go down"
      ],
      "metadata": {
        "id": "l2NaLp28YMnl"
      }
    },
    {
      "cell_type": "code",
      "execution_count": 1,
      "metadata": {
        "colab": {
          "base_uri": "https://localhost:8080/"
        },
        "id": "V_JXFgBcWzen",
        "outputId": "47e74516-4bf0-4d18-e52a-0a7e0c6cf2bd"
      },
      "outputs": [
        {
          "output_type": "stream",
          "name": "stdout",
          "text": [
            "The answer is 924\n"
          ]
        }
      ],
      "source": [
        "import math\n",
        "print('The answer is', math.comb(12, 6))"
      ]
    },
    {
      "cell_type": "markdown",
      "source": [],
      "metadata": {
        "id": "Bo698eJYZ1XF"
      }
    }
  ]
}