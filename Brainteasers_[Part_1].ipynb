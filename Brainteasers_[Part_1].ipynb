{
  "nbformat": 4,
  "nbformat_minor": 0,
  "metadata": {
    "colab": {
      "provenance": [],
      "authorship_tag": "ABX9TyM3BXUqaM5v1Yl1XYGwwY0h",
      "include_colab_link": true
    },
    "kernelspec": {
      "name": "python3",
      "display_name": "Python 3"
    },
    "language_info": {
      "name": "python"
    }
  },
  "cells": [
    {
      "cell_type": "markdown",
      "metadata": {
        "id": "view-in-github",
        "colab_type": "text"
      },
      "source": [
        "<a href=\"https://colab.research.google.com/github/davidmiheev/QuantQuestions/blob/main/Brainteasers_%5BPart_1%5D.ipynb\" target=\"_parent\"><img src=\"https://colab.research.google.com/assets/colab-badge.svg\" alt=\"Open In Colab\"/></a>"
      ]
    },
    {
      "cell_type": "markdown",
      "source": [
        "# Braintesers from Quant Questions: Part 1\n",
        "Here are collected problems which labelled as brainteasers at Quant Questions and solutions for these problems"
      ],
      "metadata": {
        "id": "fz5cfuR5XNXg"
      }
    },
    {
      "cell_type": "markdown",
      "source": [
        "## 2D Paths I\n",
        "\n",
        "> You are playing a 2D game where your character is trapped within a 6×6 grid. Your character starts at (0,0) and can only move up and right. How many possible paths can your character take to get to (6,6)?\n",
        "\n",
        "### Solution\n",
        "\n",
        "Any path from (0,0) to (6,6) has length 6+6=12 intervals where we go either right or down. To count all possible path we need to choose 6 out of 12 intervals where we go down"
      ],
      "metadata": {
        "id": "l2NaLp28YMnl"
      }
    },
    {
      "cell_type": "code",
      "execution_count": null,
      "metadata": {
        "colab": {
          "base_uri": "https://localhost:8080/"
        },
        "id": "V_JXFgBcWzen",
        "outputId": "47e74516-4bf0-4d18-e52a-0a7e0c6cf2bd"
      },
      "outputs": [
        {
          "output_type": "stream",
          "name": "stdout",
          "text": [
            "The answer is 924\n"
          ]
        }
      ],
      "source": [
        "import math\n",
        "print('The answer is', math.comb(12, 6))"
      ]
    },
    {
      "cell_type": "markdown",
      "source": [
        "## Greedy Pirates\n",
        "\n",
        "> A treasure of 100 gold coins must be divided among five pirates, ranked by seniority from 1 (least senior) to 5 (most senior). They follow these rules to split the coins:\n",
        "1. The most senior pirate proposes how many coins to distribute to each pirate.\n",
        "2. All pirates vote on the proposal, including the pirate that made the proposal. If 50% or more of the pirates accept the proposal, the coins are distributed as proposed.\n",
        "3. Otherwise, if more than 50% of the pirates reject the proposal, the most senior pirate is tossed overboard. The process restarts with the next most senior pirate making a proposal and the remaining pirates casting votes.\n",
        "4. This process repeats until a proposal is accepted or only one pirate remains, in which case the last pirate gets all 100 gold coins.\n",
        "Pirates prioritize survival over wealth. The pirates will act rationally to maximize their gain while ensuring they survive. How many coins does the most senior pirate (pirate 5) get if he makes an optimal proposal? If the most senior pirate is always thrown overboard, answer 0.\n",
        "\n",
        "\n",
        "### Solution\n",
        "\n",
        "To solve this problem, we will work backwards, analyzing the scenarios from just one pirate remaining to all five. This will help us understand each pirate's rational choices in every possible situation.\n",
        "1. One pirate left (Pirate 1): Pirate 1, being the only voter, secures all\n",
        "100 coins.\n",
        "2. Two pirates left (Pirates 1 and 2): Pirate 2 can always vote for himself, which is 50% of the votes, so his proposal will always be accepted. He can keep all 100 coins for himself. Pirate 1, without voting power to change the outcome, gets nothing.\n",
        "3. Three pirates left (Pirates 1, 2, and 3): Pirate 3 needs one vote in addition to his own. Understanding Pirate 1 gets nothing if Pirate 3 is thrown overboard, Pirate 3 offers 1 coin to Pirate 1 and keeps 99. This secures Pirate 1's vote. Pirate 2 gets nothing.\n",
        "4. Four pirates left (Pirates 1, 2, 3, and 4): Pirate 4, needing one vote in addition to his own, knows Pirate 2 gets nothing if Pirate 4 is thrown overboard. By offering 1 coin to Pirate 2 and keeping 99 for himself, Pirate 4 secures Pirate 2's vote. Pirates 1 and 3 get nothing.\n",
        "5. Five pirates left (Pirates 1 through 5): Pirate 5 needs two votes in addition to his own. By offering 1 coin to Pirates 1 and 3 — who get nothing if Pirate 5 is ousted — and keeping 98 coins, Pirate 5 ensures a majority. Pirates 2 and 4 will get nothing in this proposal, but they can't change the outcome since pirate 5 has already secured a majority.\n",
        "\n",
        "This backward analysis shows Pirate 5 can maintain a majority and ensure his survival by strategically allocating coins. He keeps 98 coins for himself, while Pirates 1 and 3 receive 1 coin each, leaving Pirates 2 and 4 with nothing.\n",
        "\n",
        "Thus, pirate 5 gets 98 gold coins with his optimal proposal."
      ],
      "metadata": {
        "id": "Bo698eJYZ1XF"
      }
    },
    {
      "cell_type": "markdown",
      "source": [],
      "metadata": {
        "id": "2RVa0p9Oauko"
      }
    }
  ]
}