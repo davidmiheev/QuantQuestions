{
  "nbformat": 4,
  "nbformat_minor": 0,
  "metadata": {
    "colab": {
      "provenance": [],
      "authorship_tag": "ABX9TyPpmq1CDHXwAyfsj947WLVe",
      "include_colab_link": true
    },
    "kernelspec": {
      "name": "python3",
      "display_name": "Python 3"
    },
    "language_info": {
      "name": "python"
    }
  },
  "cells": [
    {
      "cell_type": "markdown",
      "metadata": {
        "id": "view-in-github",
        "colab_type": "text"
      },
      "source": [
        "<a href=\"https://colab.research.google.com/github/davidmiheev/QuantQuestions/blob/main/Statistics_%5BPart_1%5D.ipynb\" target=\"_parent\"><img src=\"https://colab.research.google.com/assets/colab-badge.svg\" alt=\"Open In Colab\"/></a>"
      ]
    },
    {
      "cell_type": "markdown",
      "source": [
        "# Statistics"
      ],
      "metadata": {
        "id": "B4c1RR4bb6H3"
      }
    },
    {
      "cell_type": "markdown",
      "source": [
        "## German Tanks\n",
        "\n",
        "> Suppose that German tanks are assigned distinct serial numbers 1,2,…,N. You observe 6 tanks with serial numbers 38,17,59,42,97, and 120. Under a frequentist approach, what is the best guess for N?\n",
        "\n",
        "### Solution\n",
        "\n",
        "To estimate the total number $N$ of German tanks under a frequentist approach using the observed serial numbers, we can use the minimum-variance unbiased estimator for the population maximum $N$ (suppose that we deal with uniform distibution). The MVUE for $N$ is given by:\n",
        "\n",
        "$$\n",
        "\\hat{N} = \\max(X_i) + \\frac{\\max(X_i) - 1}{k} = \\max(X_i) \\left(1 + \\frac{1}{k}\\right) - 1\n",
        "$$\n",
        "\n",
        "where $X_i$ are the observed serial numbers, $k$ is the number of observed tanks, and $\\max(X_i)$ is the highest observed serial number.\n",
        "\n",
        "Given the observed serial numbers: 38, 17, 59, 42, 97, and 120:\n",
        "- The maximum observed serial number is $\\max(X_i) = 120$.\n",
        "- The number of observed tanks $k = 6$.\n",
        "\n"
      ],
      "metadata": {
        "id": "nTJxGtLKcBsh"
      }
    },
    {
      "cell_type": "code",
      "execution_count": 4,
      "metadata": {
        "id": "dlm3VG9jcPg7",
        "colab": {
          "base_uri": "https://localhost:8080/"
        },
        "outputId": "9d25a391-8e73-41f3-d6bb-b4292519086d"
      },
      "outputs": [
        {
          "output_type": "stream",
          "name": "stdout",
          "text": [
            "The answer is 139.0\n"
          ]
        }
      ],
      "source": [
        "print('The answer is', 120 * (1 + 1/6) - 1)"
      ]
    }
  ]
}