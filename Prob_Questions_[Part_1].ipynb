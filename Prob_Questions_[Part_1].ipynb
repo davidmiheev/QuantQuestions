{
  "nbformat": 4,
  "nbformat_minor": 0,
  "metadata": {
    "colab": {
      "provenance": [],
      "authorship_tag": "ABX9TyO7UD46Xco+xjGJc3DmjR++",
      "include_colab_link": true
    },
    "kernelspec": {
      "name": "python3",
      "display_name": "Python 3"
    },
    "language_info": {
      "name": "python"
    }
  },
  "cells": [
    {
      "cell_type": "markdown",
      "metadata": {
        "id": "view-in-github",
        "colab_type": "text"
      },
      "source": [
        "<a href=\"https://colab.research.google.com/github/davidmiheev/QuantQuestions/blob/main/Prob_Questions_%5BPart_1%5D.ipynb\" target=\"_parent\"><img src=\"https://colab.research.google.com/assets/colab-badge.svg\" alt=\"Open In Colab\"/></a>"
      ]
    },
    {
      "cell_type": "markdown",
      "source": [
        "# Probability questions from Quant Questions: Part 1\n",
        "Here are collected problems where you are asked to find some probability or expectation value and solutions for these problems"
      ],
      "metadata": {
        "id": "t_vf6eZrT9GZ"
      }
    },
    {
      "cell_type": "markdown",
      "source": [
        "## Increasing Dice Order I\n",
        "\n",
        "> You roll a fair 6-sided die twice.\n",
        "Calculate the probability that the value of the first roll is strictly less than the value of the second roll.\n",
        "\n",
        "\n",
        "### Solution\n",
        "\n",
        "Use Formula of Total Probability:\n",
        "$$P(A)=\\sum_k P(A|B_k)P(B_k)$$\n",
        "\n",
        "Let $X_1$ - value of the first roll and $X_2$ - value of the second roll\n",
        "\n",
        "Then we need to find probability that $X_2 > X_1$:\n",
        "$$P(X_2>X_1) = \\sum_{k=1}^6 P(X_2>X_1|X_1=k)P(X_1=k)$$\n",
        "\n",
        "We know that $P(X_1=k)=1/6$ for any $k$\n",
        "and $P(X_2>X_1|X_1=k)=(6-k)/6$\n",
        "\n",
        "Now, we can substitute all values to the formula and get:\n",
        "$$P(X_2>X_1) = 1/6\\sum_{k=1}^6 (6-k)/6=5/12$$\n",
        "\n",
        "\n"
      ],
      "metadata": {
        "id": "mB6wPzUKO306"
      }
    },
    {
      "cell_type": "code",
      "execution_count": null,
      "metadata": {
        "colab": {
          "base_uri": "https://localhost:8080/"
        },
        "id": "ncbXICPXOCYb",
        "outputId": "e004664e-0f80-4ddd-811a-43b725e2ccfd"
      },
      "outputs": [
        {
          "output_type": "stream",
          "name": "stdout",
          "text": [
            "The answer is 5/12\n"
          ]
        }
      ],
      "source": [
        "from fractions import Fraction\n",
        "\n",
        "print('The answer is', Fraction('1/6')*sum(Fraction(f'{6-k}/6') for k in range(1, 7)))"
      ]
    },
    {
      "cell_type": "markdown",
      "source": [
        "## Probability of Unfair Coin I\n",
        "\n",
        "> You have a pile of 100 coins.\n",
        "1 of the coins is an unfair coin and has heads on both sides. The remaining\n",
        "99 coins are fair coins. You randomly select a coin from the pile and flip it\n",
        "10 times. The coin lands heads all\n",
        "10 times. Calculate the probability that the coin you selected is the unfair coin.\n",
        "\n",
        "### Solution\n",
        "\n",
        "Use Bayes Formula\n",
        "$$P(A|B)=\\frac{P(B|A)\\cdot P(A)}{P(B)},$$\n",
        "\n",
        "where A is the event \"selected unfair coin\", B is the event \"The coin lands heads all 10 times\"\n",
        "\n",
        "Then $P(B|A) = 1, P(A)=1/100, P(B)=1/2^{10}\\cdot 99/100+1/100$\n",
        "\n",
        "So,\n",
        "$$P(A|B)=1\\cdot 1/100 \\cdot \\frac{1024\\cdot 100}{1123}= \\frac{1024}{1123}$$"
      ],
      "metadata": {
        "id": "WE5B8n3fUIo6"
      }
    },
    {
      "cell_type": "code",
      "source": [
        "print('The answer is', Fraction('1024/1123'))"
      ],
      "metadata": {
        "colab": {
          "base_uri": "https://localhost:8080/"
        },
        "id": "7vnSxfbEWKVR",
        "outputId": "aee1c40b-7dfc-4952-ec06-0cb09fad8909"
      },
      "execution_count": null,
      "outputs": [
        {
          "output_type": "stream",
          "name": "stdout",
          "text": [
            "The answer is 1024/1123\n"
          ]
        }
      ]
    },
    {
      "cell_type": "markdown",
      "source": [
        "## First Ace\n",
        "\n",
        "> On average, how many cards in a normal deck of 52 playing cards do you need to flip over to observe your first ace?\n",
        "\n",
        "### Solution 1: Python script\n",
        "\n",
        "Let $X$ is the number of cards you need to flip over to observe first ace\n",
        "\n",
        "We need to find expectation of $X$\n",
        "\n",
        "Use definition of expected value:\n",
        "$$E[X]=\\sum_k kP(X=k)$$\n",
        "where $P(X=k)= \\frac{4}{52-(k-1)}\\prod_{j=1}^{k-1}\\frac{52-4-(j-1)}{52-(j-1)}$\n",
        "\n",
        "See the script, that computes this sum below"
      ],
      "metadata": {
        "id": "YNw4sGk7z3dX"
      }
    },
    {
      "cell_type": "code",
      "source": [
        "expected_value = Fraction('0')\n",
        "prob = Fraction('1')\n",
        "for k in range(1, 53):\n",
        "  expected_value += Fraction(f'{4*k}/{53-k}')*prob\n",
        "  prob *= Fraction(f'{49-k}/{53-k}')\n",
        "\n",
        "print('The answer is', expected_value, 'or', float(expected_value))"
      ],
      "metadata": {
        "id": "9HjqwQ4Lz4rp",
        "colab": {
          "base_uri": "https://localhost:8080/"
        },
        "outputId": "7644d40b-c286-4377-ba8c-f4222f0233a8"
      },
      "execution_count": null,
      "outputs": [
        {
          "output_type": "stream",
          "name": "stdout",
          "text": [
            "The answer is 53/5 or 10.6\n"
          ]
        }
      ]
    },
    {
      "cell_type": "markdown",
      "source": [
        "### Solution 2: Linearity of Expectation\n",
        "\n",
        "Let $L_i, i=1,...,5$ is a length of interval $(A_{i-1}, A_i)$, where $A_i$ is a position of i-th ace in the deck ($A_0$ is the beginning of the deck and $A_5$ is the end of the deck. Because of symmetry we have $E[L_1] = E[L_2]=...= E[L_5]$\n",
        "\n",
        "Also, we know that $$48=E[L]=E[\\sum L_i]=\\sum E[L_i] = 5E[L_1],$$\n",
        "because of linearity of expectation.\n",
        "\n",
        "So, $E[L_1] = 48/5$, then $E[X]=48/5+1=53/5=10.6$\n"
      ],
      "metadata": {
        "id": "G0CWpcoKJN9b"
      }
    },
    {
      "cell_type": "code",
      "source": [
        "expected_value = Fraction('53/5')\n",
        "print('The answer is', expected_value, 'or', float(expected_value))"
      ],
      "metadata": {
        "colab": {
          "base_uri": "https://localhost:8080/"
        },
        "id": "sHaDa-FSN_HR",
        "outputId": "25eb9785-a308-45be-a6d2-196384e0d3c3"
      },
      "execution_count": null,
      "outputs": [
        {
          "output_type": "stream",
          "name": "stdout",
          "text": [
            "The answer is 53/5 or 10.6\n"
          ]
        }
      ]
    },
    {
      "cell_type": "markdown",
      "source": [
        "## High or Die\n",
        "\n",
        "> Francisco rolls a fair die and records the value he rolls. Afterwards, he continues rolling the die until he obtains a value at least as large as the first roll. Let N be the number of rolls after the first he performs. Find\n",
        "$E[N]$\n",
        "\n",
        "### Solution\n",
        "\n",
        "Let $X_1$ - value of the first roll.\n",
        "We know that $$E[N]=E[E[N|X_1]]=\\sum_{k=1}^6 1/6\\cdot E[N|X_1=k],$$\n",
        "where $E[N|X_1=k]=1/p$ is the mean for geometric distribution with parameter $p=(7-k)/6$. Since we continue rolling until first success: Francisco obtains a value at least as large as the first roll (which value is $k$).\n",
        "\n",
        "So, now we can substitute all these in our formula for $E[N]$"
      ],
      "metadata": {
        "id": "zI5DzmAfPnx2"
      }
    },
    {
      "cell_type": "code",
      "source": [
        "expected_value = sum(Fraction('1/6')*Fraction(f'6/{7-k}') for k in range(1, 7))\n",
        "print('The answer is', expected_value, 'or', float(expected_value))"
      ],
      "metadata": {
        "colab": {
          "base_uri": "https://localhost:8080/"
        },
        "id": "Cv8I9qYgSlti",
        "outputId": "39874c6d-3b32-43fb-ba33-ab12a427da6f"
      },
      "execution_count": null,
      "outputs": [
        {
          "output_type": "stream",
          "name": "stdout",
          "text": [
            "The answer is 49/20 or 2.45\n"
          ]
        }
      ]
    },
    {
      "cell_type": "markdown",
      "source": [
        "## Local Maxima\n",
        "\n",
        "> 14 pieces of paper labelled 1−14 are placed in a line at random. Spot i is a local maximum if the paper at the ith position is strictly larger than all of it's adjacent papers. Find the expected number of local maxima in the sequence. For example, with 6 numbers, 513246 has 3 local maxima at the first, third, and last spots.\n",
        "\n",
        "### Solution\n",
        "Let $X$ is a number of local maxima in the sequence.\n",
        "\n",
        "Let $X_i, i = 1,...,14$ is a Bernoulli variable with parameter $p_i=P(\\text{i-th spot is a local maximum})$\n",
        "\n",
        "Let's calculate $p_i$ for each $i$:\n",
        "\n",
        "*   $p$ for $X_1, X_{14}$ equals $1/2$ because we have two options here: a>b or a<b which have equal probabilities and one of them is a success\n",
        "*   $p$ for other $X_i$ eqals $1/3$ because we have six $(=3!)$ options how to arrange labels and only two of them are success options: $a<b>c$ or $c<b>a$\n",
        "\n",
        "Now, thanks to linearity of expectation, we have $E[X]=E[\\sum X_i]=\\sum E[X_i]=\\sum p_i = 1/2 + 1/3 + ... + 1/3 +1/2=5$\n"
      ],
      "metadata": {
        "id": "P9qNFqJznrXD"
      }
    },
    {
      "cell_type": "code",
      "source": [
        "expected_value = Fraction('1/2') + 12*Fraction('1/3') + Fraction('1/2')\n",
        "print('The answer is', expected_value, 'or', float(expected_value))"
      ],
      "metadata": {
        "id": "MJ_SA_gqtNic",
        "colab": {
          "base_uri": "https://localhost:8080/"
        },
        "outputId": "fa53a17a-b087-43e7-c592-dc033a73d40f"
      },
      "execution_count": null,
      "outputs": [
        {
          "output_type": "stream",
          "name": "stdout",
          "text": [
            "The answer is 5 or 5.0\n"
          ]
        }
      ]
    },
    {
      "cell_type": "markdown",
      "source": [
        "## Expecting HTH\n",
        "\n",
        "> On average, how many tosses of a fair coin does it take to see HTH?\n",
        "\n",
        "### Solution\n",
        "\n",
        "Let's consider Markov chain with 4 states: $S_0$ - is initial state, $S_1$ is \"we have head after 1-st toss\" or \"H\", $S_2$ is \"we have tail after head\" or \"HT\", $S_3$ - success state or \"HTH\" (absorbing state).\n",
        "Now we have following transition probabilities $P(S_0|S_0)=1/2, P(S_1|S_0)=1/2, P(S_1|S_1)=1/2,$ $P(S_2|S_1)=1/2, P(S_0|S_2)=1/2, P(S_3|S_2)=1/2$, other transition probs are zero.\n",
        "\n",
        "So, we get following linear system for expectated numbers of tosses to see HTH starting from $S_i$ state $E_i[N]$:\n",
        "$$E_0[N]=1+1/2E_0[N]+1/2E_1[N]$$\n",
        "$$E_1[N]=1+1/2E_1[N]+1/2E_2[N]$$\n",
        "$$E_2[N]=1+1/2E_0[N]$$\n",
        "The answer is value of $E_0[N]$ from solution of this system"
      ],
      "metadata": {
        "id": "ITfPQBYdubxw"
      }
    },
    {
      "cell_type": "code",
      "source": [
        "import numpy as np\n",
        "from numpy.linalg import solve\n",
        "\n",
        "A = np.array(\n",
        "    [[1, -1, 0],\n",
        "     [0, 1, -1],\n",
        "     [-1, 0, 2]]\n",
        "    )\n",
        "\n",
        "b = np.array([2, 2, 2])\n",
        "print(\"The answer is\", int(solve(A, b)[0]))"
      ],
      "metadata": {
        "id": "WQF4J8Ut0Fs7",
        "outputId": "287f414d-cef7-479f-ca73-b4aded53a609",
        "colab": {
          "base_uri": "https://localhost:8080/"
        }
      },
      "execution_count": null,
      "outputs": [
        {
          "output_type": "stream",
          "name": "stdout",
          "text": [
            "The answer is 10\n"
          ]
        }
      ]
    },
    {
      "cell_type": "markdown",
      "source": [
        "## Marble Mischief\n",
        "\n",
        "> Sean has 200 red, 400 blue, and 600 green marbles in an urn. He draws out the marbles one-at-a-time without replacement. Find the probability that there is at least 1 blue and 1 green marble left in the urn right after the last red marble is selected.\n",
        "\n",
        "### Solution\n",
        "\n",
        "Let B and G represent the event that the absolute last marble in our\n",
        "sequence is blue or green, respectively. Let R be the event in question. By Law of Total Probability,\n",
        "\n",
        "$$P(R)=P(R|B)P(B)+P(R|G)P(G)$$\n",
        "\n",
        "Considering the relation between numbers of marbles: 1:2:3, we have that $P(B)=1/3$, $P(G)=1/2$. Now let's calculate $P(R|B)$ and $P(R|G)$. Denote $P(R|B)$ as $x$ and $P(R|G)$ as $y$. By Law of Total Probability, $x≈x\\cdot P(B)+1\\cdot P(G)$ and $y\\approx y\\cdot P(G)+1\\cdot P(B)$.\n",
        "\n",
        "So, $x\\approx P(G)/(1-P(B))$ and $y\\approx P(B)/(1-P(G))$ and now we can calculate the answer"
      ],
      "metadata": {
        "id": "vAqrkI7_hGtM"
      }
    },
    {
      "cell_type": "code",
      "source": [
        "print('The answer is', Fraction('1/3')/(1-Fraction('1/2'))*Fraction('1/2')+Fraction('1/2')/(1-Fraction('1/3'))*Fraction('1/3'))"
      ],
      "metadata": {
        "colab": {
          "base_uri": "https://localhost:8080/"
        },
        "id": "zPdbnfEPkIbd",
        "outputId": "57f2aa90-cc9b-4dc4-8deb-3fc28c403c0c"
      },
      "execution_count": null,
      "outputs": [
        {
          "output_type": "stream",
          "name": "stdout",
          "text": [
            "The answer is 7/12\n"
          ]
        }
      ]
    },
    {
      "cell_type": "markdown",
      "source": [
        "## Ten Ten\n",
        "\n",
        "> Adam is rolling a fair 10−sided die. He gets to roll repeatedly and may decide when to stop at any time. If he obtains a value that is not 10 on each roll, he adds the upface to his total monetary sum. If he rolls a 10, he loses all of his money. If Adam plays optimally, he should stop once he has at least $k total. Find k\n",
        "\n",
        "### Solution\n",
        "\n",
        "Expected number of fails before success (Adam rolls a 10) is 9 (it is geometric distribution). Expected value of gain in each roll is $5. So, we need to stop when we have 9*5 = \\$45. The answer is 45\n",
        "\n"
      ],
      "metadata": {
        "id": "AxuMZ95ulYER"
      }
    },
    {
      "cell_type": "markdown",
      "source": [
        "## St. Petersburg Paradox\n",
        "\n",
        "> Suppose you are offered to play a game where you flip a fair coin until you obtain a heads for the first time. If the first heads occurs on the nth flip, you are paid out $\\$2^n$. What is the fair value of this game? If your answer is infinite, enter $−1$\n",
        "\n",
        "### Solution\n",
        "\n",
        "Let X is your gain in this game. $E[X] = \\sum_x x\\cdot P(X=x) = \\sum 2^n\\cdot(1/2)^n=\\infty$.\n",
        "\n",
        "So, the answer is $-1$"
      ],
      "metadata": {
        "id": "dQZWqVU5ml86"
      }
    },
    {
      "cell_type": "markdown",
      "source": [],
      "metadata": {
        "id": "q8xWRtykn0xf"
      }
    }
  ]
}