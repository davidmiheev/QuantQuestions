{
  "nbformat": 4,
  "nbformat_minor": 0,
  "metadata": {
    "colab": {
      "provenance": [],
      "authorship_tag": "ABX9TyOOPXYOU9CaMHQlAzv1f/RB",
      "include_colab_link": true
    },
    "kernelspec": {
      "name": "python3",
      "display_name": "Python 3"
    },
    "language_info": {
      "name": "python"
    }
  },
  "cells": [
    {
      "cell_type": "markdown",
      "metadata": {
        "id": "view-in-github",
        "colab_type": "text"
      },
      "source": [
        "<a href=\"https://colab.research.google.com/github/davidmiheev/QuantQuestions/blob/main/Prob_Questions_%5BPart_1%5D.ipynb\" target=\"_parent\"><img src=\"https://colab.research.google.com/assets/colab-badge.svg\" alt=\"Open In Colab\"/></a>"
      ]
    },
    {
      "cell_type": "markdown",
      "source": [
        "# Probability questions from Quant Questions: Part 1\n",
        "Here are collected problems where you are asked to find some probability or expectation value and my solutions for these problems"
      ],
      "metadata": {
        "id": "t_vf6eZrT9GZ"
      }
    },
    {
      "cell_type": "markdown",
      "source": [
        "## Increasing Dice Order I\n",
        "\n",
        "> You roll a fair 6-sided die twice.\n",
        "Calculate the probability that the value of the first roll is strictly less than the value of the second roll.\n",
        "\n",
        "### Solution\n",
        "\n",
        "Use Full Probabily Formula:\n",
        "\n",
        "Let $X_1$ - value of the first roll and $X_2$ - value of the second roll\n",
        "\n",
        "Then we need to find probability that $X_2 > X_1$:\n",
        "$$P(X_2>X_1) = \\sum_{k=1}^6 P(X_2>X_1|X_1=k)P(X_1=k)$$\n",
        "\n",
        "We know that $P(X_1=k)=1/6$ for any $k$\n",
        "and $P(X_2>X_1|X_1=k)=(6-k)/6$\n",
        "\n",
        "Now, we can substitute all values to the formula and get:\n",
        "$$P(X_2>X_1) = 1/6\\sum_{k=1}^6 (6-k)/6=5/12$$\n",
        "\n",
        "So, the answer is $5/12$\n",
        "\n"
      ],
      "metadata": {
        "id": "mB6wPzUKO306"
      }
    },
    {
      "cell_type": "code",
      "execution_count": 7,
      "metadata": {
        "colab": {
          "base_uri": "https://localhost:8080/"
        },
        "id": "ncbXICPXOCYb",
        "outputId": "0ad9ba5a-c625-40ca-cfc3-3e8f14631f46"
      },
      "outputs": [
        {
          "output_type": "stream",
          "name": "stdout",
          "text": [
            "The answer is 5/12\n"
          ]
        }
      ],
      "source": [
        "from fractions import Fraction\n",
        "\n",
        "print('The answer is', Fraction('1/6')*sum(Fraction(f'{6-k}/6') for k in range(1, 7)))"
      ]
    },
    {
      "cell_type": "markdown",
      "source": [
        "## Probability of Unfair Coin I\n",
        "\n",
        "> You have a pile of 100 coins.\n",
        "1 of the coins is an unfair coin and has heads on both sides. The remaining\n",
        "99 coins are fair coins. You randomly select a coin from the pile and flip it\n",
        "10 times. The coin lands heads all\n",
        "10 times. Calculate the probability that the coin you selected is the unfair coin.\n",
        "\n",
        "### Solution\n",
        "\n",
        "Use Bayes Formula\n",
        "$$P(A|B)=\\frac{P(B|A)\\cdot P(A)}{P(B)},$$\n",
        "\n",
        "where A is the event \"selected unfair coin\", B is the event \"The coin lands heads all 10 times\"\n",
        "\n",
        "Then $P(B|A) = 1, P(A)=1/100, P(B)=1/2^{10}\\cdot 99/100+1/100$\n",
        "So,\n",
        "$$P(A|B)=1\\cdot 1/100 \\cdot \\frac{1024\\cdot 100}{1123}= \\frac{1024}{1123}$$\n",
        "\n",
        "the answer is 1024/1123"
      ],
      "metadata": {
        "id": "WE5B8n3fUIo6"
      }
    },
    {
      "cell_type": "code",
      "source": [
        "print('The answer is', Fraction('1024/1123'))"
      ],
      "metadata": {
        "colab": {
          "base_uri": "https://localhost:8080/"
        },
        "id": "7vnSxfbEWKVR",
        "outputId": "cbc0bdf3-355b-4940-8446-bcc95460525c"
      },
      "execution_count": 8,
      "outputs": [
        {
          "output_type": "stream",
          "name": "stdout",
          "text": [
            "The answer is 1024/1123\n"
          ]
        }
      ]
    },
    {
      "cell_type": "markdown",
      "source": [
        "## First Ace\n",
        "\n",
        "> On average, how many cards in a normal deck of 52 playing cards do you need to flip over to observe your first ace?\n",
        "\n",
        "### Solution 1: Python script\n",
        "\n",
        "Let $X$ is the number of cards you need to flip over to observe first ace\n",
        "We need to find expectation of $X$\n",
        "\n",
        "Use definition of expected value:\n",
        "$$E[X]=\\sum_k kP(X=k)$$,\n",
        "where $P(X=k)= \\frac{4}{52-(k-1)}\\prod_{j=1}^{k-1}\\frac{52-4-(j-1)}{52-(j-1)}$\n",
        "\n",
        "See the script, that computes this sum below"
      ],
      "metadata": {
        "id": "YNw4sGk7z3dX"
      }
    },
    {
      "cell_type": "code",
      "source": [
        "expected_value = Fraction('0')\n",
        "prob = Fraction('1')\n",
        "for k in range(1, 53):\n",
        "  expected_value += Fraction(f'{4*k}/{53-k}')*prob\n",
        "  prob *= Fraction(f'{49-k}/{53-k}')\n",
        "\n",
        "print('The answer is', expected_value, 'or', float(expected_value))"
      ],
      "metadata": {
        "id": "9HjqwQ4Lz4rp",
        "colab": {
          "base_uri": "https://localhost:8080/"
        },
        "outputId": "984c5971-fb2e-4fcc-fa12-96d6f57d1155"
      },
      "execution_count": 9,
      "outputs": [
        {
          "output_type": "stream",
          "name": "stdout",
          "text": [
            "The answer is 53/5 or 10.6\n"
          ]
        }
      ]
    },
    {
      "cell_type": "markdown",
      "source": [
        "### Solution 2: Linearity of Expectation\n",
        "\n",
        "Let $L_i, i=1...5$ is a length of interval $(A_{i-1}, A_i)$, where $A_i$ is a position of i-th ace in the deck ($A_0$ is the beginning of the deck and $A_5$ is the end of the deck. Because of symmetry $E[L_1] = E[L_2]=...= E[L_5]$ and we know that $$48=E[L]=E[\\sum L_i]=\\sum E[L_i] = 5E[L_1],$$\n",
        "because of linearity of expectation.\n",
        "\n",
        "So, $E[L_1] = 48/5$, then $E[X]=48/5+1=53/5=10.6$\n"
      ],
      "metadata": {
        "id": "G0CWpcoKJN9b"
      }
    },
    {
      "cell_type": "code",
      "source": [
        "expected_value = Fraction('53/5')\n",
        "print('The answer is', expected_value, 'or', float(expected_value))"
      ],
      "metadata": {
        "colab": {
          "base_uri": "https://localhost:8080/"
        },
        "id": "sHaDa-FSN_HR",
        "outputId": "d019a13b-6bf9-46e6-80c9-e9b8e11467b2"
      },
      "execution_count": 11,
      "outputs": [
        {
          "output_type": "stream",
          "name": "stdout",
          "text": [
            "The answer is 53/5 or 10.6\n"
          ]
        }
      ]
    }
  ]
}