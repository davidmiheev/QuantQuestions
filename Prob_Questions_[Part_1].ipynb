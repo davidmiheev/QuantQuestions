{
  "nbformat": 4,
  "nbformat_minor": 0,
  "metadata": {
    "colab": {
      "provenance": [],
      "authorship_tag": "ABX9TyMfKvguDMtszuXIgL4iy9dt",
      "include_colab_link": true
    },
    "kernelspec": {
      "name": "python3",
      "display_name": "Python 3"
    },
    "language_info": {
      "name": "python"
    }
  },
  "cells": [
    {
      "cell_type": "markdown",
      "metadata": {
        "id": "view-in-github",
        "colab_type": "text"
      },
      "source": [
        "<a href=\"https://colab.research.google.com/github/davidmiheev/QuantQuestions/blob/main/Prob_Questions_%5BPart_1%5D.ipynb\" target=\"_parent\"><img src=\"https://colab.research.google.com/assets/colab-badge.svg\" alt=\"Open In Colab\"/></a>"
      ]
    },
    {
      "cell_type": "markdown",
      "source": [
        "# Probability questions from Quant Questions: Part 1\n",
        "Here are collected problems where you are asked to find some probability or expectation value and solutions for these problems"
      ],
      "metadata": {
        "id": "t_vf6eZrT9GZ"
      }
    },
    {
      "cell_type": "markdown",
      "source": [
        "## Increasing Dice Order I\n",
        "\n",
        "> You roll a fair 6-sided die twice.\n",
        "Calculate the probability that the value of the first roll is strictly less than the value of the second roll.\n",
        "\n",
        "\n",
        "### Solution\n",
        "\n",
        "Use Formula of Total Probability:\n",
        "$$P(A)=\\sum_k P(A|B_k)P(B_k)$$\n",
        "\n",
        "Let $X_1$ - value of the first roll and $X_2$ - value of the second roll\n",
        "\n",
        "Then we need to find probability that $X_2 > X_1$:\n",
        "$$P(X_2>X_1) = \\sum_{k=1}^6 P(X_2>X_1|X_1=k)P(X_1=k)$$\n",
        "\n",
        "We know that $P(X_1=k)=1/6$ for any $k$\n",
        "and $P(X_2>X_1|X_1=k)=(6-k)/6$\n",
        "\n",
        "Now, we can substitute all values to the formula and get:\n",
        "$$P(X_2>X_1) = 1/6\\sum_{k=1}^6 (6-k)/6=5/12$$\n",
        "\n",
        "\n"
      ],
      "metadata": {
        "id": "mB6wPzUKO306"
      }
    },
    {
      "cell_type": "code",
      "execution_count": 1,
      "metadata": {
        "colab": {
          "base_uri": "https://localhost:8080/"
        },
        "id": "ncbXICPXOCYb",
        "outputId": "5f247dbd-f10a-4c89-a374-a6ddb94391cb"
      },
      "outputs": [
        {
          "output_type": "stream",
          "name": "stdout",
          "text": [
            "The answer is 5/12\n"
          ]
        }
      ],
      "source": [
        "from fractions import Fraction\n",
        "\n",
        "print('The answer is', Fraction('1/6')*sum(Fraction(f'{6-k}/6') for k in range(1, 7)))"
      ]
    },
    {
      "cell_type": "markdown",
      "source": [
        "## Probability of Unfair Coin I\n",
        "\n",
        "> You have a pile of 100 coins.\n",
        "1 of the coins is an unfair coin and has heads on both sides. The remaining\n",
        "99 coins are fair coins. You randomly select a coin from the pile and flip it\n",
        "10 times. The coin lands heads all\n",
        "10 times. Calculate the probability that the coin you selected is the unfair coin.\n",
        "\n",
        "### Solution\n",
        "\n",
        "Use Bayes Formula\n",
        "$$P(A|B)=\\frac{P(B|A)\\cdot P(A)}{P(B)},$$\n",
        "\n",
        "where A is the event \"selected unfair coin\", B is the event \"The coin lands heads all 10 times\"\n",
        "\n",
        "Then $P(B|A) = 1, P(A)=1/100, P(B)=1/2^{10}\\cdot 99/100+1/100$\n",
        "\n",
        "So,\n",
        "$$P(A|B)=1\\cdot 1/100 \\cdot \\frac{1024\\cdot 100}{1123}= \\frac{1024}{1123}$$"
      ],
      "metadata": {
        "id": "WE5B8n3fUIo6"
      }
    },
    {
      "cell_type": "code",
      "source": [
        "print('The answer is', Fraction('1024/1123'))"
      ],
      "metadata": {
        "colab": {
          "base_uri": "https://localhost:8080/"
        },
        "id": "7vnSxfbEWKVR",
        "outputId": "d1bbe6f2-3d18-43b5-dc83-224405ab0f9e"
      },
      "execution_count": 2,
      "outputs": [
        {
          "output_type": "stream",
          "name": "stdout",
          "text": [
            "The answer is 1024/1123\n"
          ]
        }
      ]
    },
    {
      "cell_type": "markdown",
      "source": [
        "## First Ace\n",
        "\n",
        "> On average, how many cards in a normal deck of 52 playing cards do you need to flip over to observe your first ace?\n",
        "\n",
        "### Solution 1: Python script\n",
        "\n",
        "Let $X$ is the number of cards you need to flip over to observe first ace\n",
        "\n",
        "We need to find expectation of $X$\n",
        "\n",
        "Use definition of expected value:\n",
        "$$E[X]=\\sum_k kP(X=k)$$\n",
        "where $P(X=k)= \\frac{4}{52-(k-1)}\\prod_{j=1}^{k-1}\\frac{52-4-(j-1)}{52-(j-1)}$\n",
        "\n",
        "See the script, that computes this sum below"
      ],
      "metadata": {
        "id": "YNw4sGk7z3dX"
      }
    },
    {
      "cell_type": "code",
      "source": [
        "expected_value = Fraction('0')\n",
        "prob = Fraction('1')\n",
        "for k in range(1, 53):\n",
        "  expected_value += Fraction(f'{4*k}/{53-k}')*prob\n",
        "  prob *= Fraction(f'{49-k}/{53-k}')\n",
        "\n",
        "print('The answer is', expected_value, 'or', float(expected_value))"
      ],
      "metadata": {
        "id": "9HjqwQ4Lz4rp",
        "colab": {
          "base_uri": "https://localhost:8080/"
        },
        "outputId": "6f544ede-0d27-4128-ebbe-4ea9a883f16c"
      },
      "execution_count": 3,
      "outputs": [
        {
          "output_type": "stream",
          "name": "stdout",
          "text": [
            "The answer is 53/5 or 10.6\n"
          ]
        }
      ]
    },
    {
      "cell_type": "markdown",
      "source": [
        "### Solution 2: Linearity of Expectation\n",
        "\n",
        "Let $L_i, i=1,...,5$ is a length of interval $(A_{i-1}, A_i)$, where $A_i$ is a position of i-th ace in the deck ($A_0$ is the beginning of the deck and $A_5$ is the end of the deck. Because of symmetry we have $E[L_1] = E[L_2]=...= E[L_5]$\n",
        "\n",
        "Also, we know that $$48=E[L]=E[\\sum L_i]=\\sum E[L_i] = 5E[L_1],$$\n",
        "because of linearity of expectation.\n",
        "\n",
        "So, $E[L_1] = 48/5$, then $E[X]=48/5+1=53/5=10.6$\n"
      ],
      "metadata": {
        "id": "G0CWpcoKJN9b"
      }
    },
    {
      "cell_type": "code",
      "source": [
        "expected_value = Fraction('53/5')\n",
        "print('The answer is', expected_value, 'or', float(expected_value))"
      ],
      "metadata": {
        "colab": {
          "base_uri": "https://localhost:8080/"
        },
        "id": "sHaDa-FSN_HR",
        "outputId": "2f89e17c-96f5-4eff-ced0-33e9db847c70"
      },
      "execution_count": 4,
      "outputs": [
        {
          "output_type": "stream",
          "name": "stdout",
          "text": [
            "The answer is 53/5 or 10.6\n"
          ]
        }
      ]
    },
    {
      "cell_type": "markdown",
      "source": [
        "## High or Die\n",
        "\n",
        "> Francisco rolls a fair die and records the value he rolls. Afterwards, he continues rolling the die until he obtains a value at least as large as the first roll. Let N be the number of rolls after the first he performs. Find\n",
        "$E[N]$\n",
        "\n",
        "### Solution\n",
        "\n",
        "Let $X_1$ - value of the first roll.\n",
        "We know that $$E[N]=E[E[N|X_1]]=\\sum_{k=1}^6 1/6\\cdot E[N|X_1=k],$$\n",
        "where $E[N|X_1=k]=1/p$ is the mean for geometric distribution with parameter $p=(7-k)/6$. Since we continue rolling until first success: Francisco obtains a value at least as large as the first roll (which value is $k$).\n",
        "\n",
        "So, now we can substitute all these in our formula for $E[N]$"
      ],
      "metadata": {
        "id": "zI5DzmAfPnx2"
      }
    },
    {
      "cell_type": "code",
      "source": [
        "expected_value = sum(Fraction('1/6')*Fraction(f'6/{7-k}') for k in range(1, 7))\n",
        "print('The answer is', expected_value, 'or', float(expected_value))"
      ],
      "metadata": {
        "colab": {
          "base_uri": "https://localhost:8080/"
        },
        "id": "Cv8I9qYgSlti",
        "outputId": "e2a36ba9-40bb-4401-861e-152fcf38ce6b"
      },
      "execution_count": 5,
      "outputs": [
        {
          "output_type": "stream",
          "name": "stdout",
          "text": [
            "The answer is 49/20 or 2.45\n"
          ]
        }
      ]
    },
    {
      "cell_type": "markdown",
      "source": [
        "## Local Maxima\n",
        "\n",
        "> 14 pieces of paper labelled 1−14 are placed in a line at random. Spot i is a local maximum if the paper at the ith position is strictly larger than all of it's adjacent papers. Find the expected number of local maxima in the sequence. For example, with 6 numbers, 513246 has 3 local maxima at the first, third, and last spots.\n",
        "\n",
        "### Solution\n",
        "Let $X$ is a number of local maxima in the sequence.\n",
        "\n",
        "Let $X_i, i = 1,...,14$ is a Bernoulli variable with parameter $p_i=P(\\text{i-th spot is a local maximum})$\n",
        "\n",
        "Let's calculate $p_i$ for each $i$:\n",
        "\n",
        "*   $p$ for $X_1, X_{14}$ equals $1/2$ because we have two options here: a>b or a<b which have equal probabilities and one of them is a success\n",
        "*   $p$ for other $X_i$ eqals $1/3$ because we have six $(=3!)$ options how to arrange labels and only two of them are success options: $a<b>c$ or $c<b>a$\n",
        "\n",
        "Now, thanks to linearity of expectation, we have $E[X]=E[\\sum X_i]=\\sum E[X_i]=\\sum p_i = 1/2 + 1/3 + ... + 1/3 +1/2=5$\n"
      ],
      "metadata": {
        "id": "P9qNFqJznrXD"
      }
    },
    {
      "cell_type": "code",
      "source": [
        "expected_value = Fraction('1/2') + 12*Fraction('1/3') + Fraction('1/2')\n",
        "print('The answer is', expected_value, 'or', float(expected_value))"
      ],
      "metadata": {
        "id": "MJ_SA_gqtNic",
        "colab": {
          "base_uri": "https://localhost:8080/"
        },
        "outputId": "2204d12e-5b4b-47e2-fdca-cd899d773318"
      },
      "execution_count": 6,
      "outputs": [
        {
          "output_type": "stream",
          "name": "stdout",
          "text": [
            "The answer is 5 or 5.0\n"
          ]
        }
      ]
    },
    {
      "cell_type": "markdown",
      "source": [
        "## Expecting HTH\n",
        "\n",
        "> On average, how many tosses of a fair coin does it take to see HTH?\n",
        "\n",
        "### Solution\n",
        "\n",
        "Let's consider Markov chain with 4 states: $S_0$ - is initial state, $S_1$ is \"we have head after 1-st toss\" or \"H\", $S_2$ is \"we have tail after head\" or \"HT\", $S_3$ - success state or \"HTH\" (absorbing state).\n",
        "Now we have following transition probabilities $P(S_0|S_0)=1/2, P(S_1|S_0)=1/2, P(S_1|S_1)=1/2,$ $P(S_2|S_1)=1/2, P(S_0|S_2)=1/2, P(S_3|S_2)=1/2$, other transition probs are zero.\n",
        "\n",
        "So, we get following linear system for expectated numbers of tosses to see HTH starting from $S_i$ state $E_i[N]$:\n",
        "$$E_0[N]=1+1/2E_0[N]+1/2E_1[N]$$\n",
        "$$E_1[N]=1+1/2E_1[N]+1/2E_2[N]$$\n",
        "$$E_2[N]=1+1/2E_0[N]$$\n",
        "The answer is value of $E_0[N]$ from solution of this system"
      ],
      "metadata": {
        "id": "ITfPQBYdubxw"
      }
    },
    {
      "cell_type": "code",
      "source": [
        "import numpy as np\n",
        "from numpy.linalg import solve\n",
        "\n",
        "A = np.array(\n",
        "    [[1, -1, 0],\n",
        "     [0, 1, -1],\n",
        "     [-1, 0, 2]]\n",
        "    )\n",
        "\n",
        "b = np.array([2, 2, 2])\n",
        "print(\"The answer is\", int(solve(A, b)[0]))"
      ],
      "metadata": {
        "id": "WQF4J8Ut0Fs7",
        "outputId": "f448177d-e6ac-46b4-d198-7a51bbd91d6f",
        "colab": {
          "base_uri": "https://localhost:8080/"
        }
      },
      "execution_count": 7,
      "outputs": [
        {
          "output_type": "stream",
          "name": "stdout",
          "text": [
            "The answer is 10\n"
          ]
        }
      ]
    }
  ]
}